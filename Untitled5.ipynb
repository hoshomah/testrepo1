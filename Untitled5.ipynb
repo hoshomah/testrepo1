{
  "metadata": {
    "language_info": {
      "codemirror_mode": {
        "name": "python",
        "version": 3
      },
      "file_extension": ".py",
      "mimetype": "text/x-python",
      "name": "python",
      "nbconvert_exporter": "python",
      "pygments_lexer": "ipython3",
      "version": "3.8"
    },
    "kernelspec": {
      "name": "python",
      "display_name": "Pyolite",
      "language": "python"
    }
  },
  "nbformat_minor": 4,
  "nbformat": 4,
  "cells": [
    {
      "cell_type": "markdown",
      "source": "# My Jupyter Notebook",
      "metadata": {}
    },
    {
      "cell_type": "markdown",
      "source": "<b>Hamza Oshomah</b>\n\nData Scientist",
      "metadata": {
        "tags": []
      }
    },
    {
      "cell_type": "markdown",
      "source": "*I am interested in data science because the world is driven by data and to be able to crunch data to solve problems is something I love and would be to do*",
      "metadata": {}
    },
    {
      "cell_type": "markdown",
      "source": "# the code in cell five is going to give me an answer for a mathematical problem which is the total number of days in a year divided by the total number of month in a year",
      "metadata": {}
    },
    {
      "cell_type": "markdown",
      "source": "365/12",
      "metadata": {}
    },
    {
      "cell_type": "markdown",
      "source": "|Days|Number of Hours|Number of Books|\n|------|--------|---------|\n|12|8|18\n\n* 12 days\n* 8 hours\n* 18 books wrapped as gifts",
      "metadata": {}
    },
    {
      "cell_type": "code",
      "source": "",
      "metadata": {},
      "execution_count": null,
      "outputs": []
    }
  ]
}